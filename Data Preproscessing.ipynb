{
 "cells": [
  {
   "cell_type": "code",
   "execution_count": 28,
   "outputs": [],
   "source": [
    "import pandas as pd\n",
    "import numpy as np\n",
    "import matplotlib.pyplot as plt"
   ],
   "metadata": {
    "collapsed": false
   }
  },
  {
   "cell_type": "code",
   "execution_count": 29,
   "outputs": [],
   "source": [
    "import os\n",
    "import glob"
   ],
   "metadata": {
    "collapsed": false
   }
  },
  {
   "cell_type": "code",
   "execution_count": 3,
   "outputs": [
    {
     "ename": "KeyboardInterrupt",
     "evalue": "",
     "output_type": "error",
     "traceback": [
      "\u001B[1;31m---------------------------------------------------------------------------\u001B[0m",
      "\u001B[1;31mKeyboardInterrupt\u001B[0m                         Traceback (most recent call last)",
      "Cell \u001B[1;32mIn[3], line 7\u001B[0m\n\u001B[0;32m      4\u001B[0m lengths \u001B[38;5;241m=\u001B[39m np\u001B[38;5;241m.\u001B[39marray([])\n\u001B[0;32m      6\u001B[0m \u001B[38;5;28;01mfor\u001B[39;00m file_path \u001B[38;5;129;01min\u001B[39;00m val_files:\n\u001B[1;32m----> 7\u001B[0m     file \u001B[38;5;241m=\u001B[39m \u001B[43mpd\u001B[49m\u001B[38;5;241;43m.\u001B[39;49m\u001B[43mread_csv\u001B[49m\u001B[43m(\u001B[49m\u001B[43mfile_path\u001B[49m\u001B[43m)\u001B[49m\n\u001B[0;32m      9\u001B[0m     \u001B[38;5;28;01mfor\u001B[39;00m index \u001B[38;5;129;01min\u001B[39;00m \u001B[38;5;28mrange\u001B[39m(\u001B[38;5;28mlen\u001B[39m(file)):\n\u001B[0;32m     10\u001B[0m         \u001B[38;5;28;01mif\u001B[39;00m file[\u001B[38;5;124m'\u001B[39m\u001B[38;5;124mfault_duration\u001B[39m\u001B[38;5;124m'\u001B[39m]\u001B[38;5;241m.\u001B[39miloc[index] \u001B[38;5;241m!=\u001B[39m \u001B[38;5;241m0\u001B[39m:\n",
      "File \u001B[1;32m~\\Anaconda3\\anaconda\\envs\\DS\\lib\\site-packages\\pandas\\util\\_decorators.py:211\u001B[0m, in \u001B[0;36mdeprecate_kwarg.<locals>._deprecate_kwarg.<locals>.wrapper\u001B[1;34m(*args, **kwargs)\u001B[0m\n\u001B[0;32m    209\u001B[0m     \u001B[38;5;28;01melse\u001B[39;00m:\n\u001B[0;32m    210\u001B[0m         kwargs[new_arg_name] \u001B[38;5;241m=\u001B[39m new_arg_value\n\u001B[1;32m--> 211\u001B[0m \u001B[38;5;28;01mreturn\u001B[39;00m \u001B[43mfunc\u001B[49m\u001B[43m(\u001B[49m\u001B[38;5;241;43m*\u001B[39;49m\u001B[43margs\u001B[49m\u001B[43m,\u001B[49m\u001B[43m \u001B[49m\u001B[38;5;241;43m*\u001B[39;49m\u001B[38;5;241;43m*\u001B[39;49m\u001B[43mkwargs\u001B[49m\u001B[43m)\u001B[49m\n",
      "File \u001B[1;32m~\\Anaconda3\\anaconda\\envs\\DS\\lib\\site-packages\\pandas\\util\\_decorators.py:331\u001B[0m, in \u001B[0;36mdeprecate_nonkeyword_arguments.<locals>.decorate.<locals>.wrapper\u001B[1;34m(*args, **kwargs)\u001B[0m\n\u001B[0;32m    325\u001B[0m \u001B[38;5;28;01mif\u001B[39;00m \u001B[38;5;28mlen\u001B[39m(args) \u001B[38;5;241m>\u001B[39m num_allow_args:\n\u001B[0;32m    326\u001B[0m     warnings\u001B[38;5;241m.\u001B[39mwarn(\n\u001B[0;32m    327\u001B[0m         msg\u001B[38;5;241m.\u001B[39mformat(arguments\u001B[38;5;241m=\u001B[39m_format_argument_list(allow_args)),\n\u001B[0;32m    328\u001B[0m         \u001B[38;5;167;01mFutureWarning\u001B[39;00m,\n\u001B[0;32m    329\u001B[0m         stacklevel\u001B[38;5;241m=\u001B[39mfind_stack_level(),\n\u001B[0;32m    330\u001B[0m     )\n\u001B[1;32m--> 331\u001B[0m \u001B[38;5;28;01mreturn\u001B[39;00m \u001B[43mfunc\u001B[49m\u001B[43m(\u001B[49m\u001B[38;5;241;43m*\u001B[39;49m\u001B[43margs\u001B[49m\u001B[43m,\u001B[49m\u001B[43m \u001B[49m\u001B[38;5;241;43m*\u001B[39;49m\u001B[38;5;241;43m*\u001B[39;49m\u001B[43mkwargs\u001B[49m\u001B[43m)\u001B[49m\n",
      "File \u001B[1;32m~\\Anaconda3\\anaconda\\envs\\DS\\lib\\site-packages\\pandas\\io\\parsers\\readers.py:950\u001B[0m, in \u001B[0;36mread_csv\u001B[1;34m(filepath_or_buffer, sep, delimiter, header, names, index_col, usecols, squeeze, prefix, mangle_dupe_cols, dtype, engine, converters, true_values, false_values, skipinitialspace, skiprows, skipfooter, nrows, na_values, keep_default_na, na_filter, verbose, skip_blank_lines, parse_dates, infer_datetime_format, keep_date_col, date_parser, dayfirst, cache_dates, iterator, chunksize, compression, thousands, decimal, lineterminator, quotechar, quoting, doublequote, escapechar, comment, encoding, encoding_errors, dialect, error_bad_lines, warn_bad_lines, on_bad_lines, delim_whitespace, low_memory, memory_map, float_precision, storage_options)\u001B[0m\n\u001B[0;32m    935\u001B[0m kwds_defaults \u001B[38;5;241m=\u001B[39m _refine_defaults_read(\n\u001B[0;32m    936\u001B[0m     dialect,\n\u001B[0;32m    937\u001B[0m     delimiter,\n\u001B[1;32m   (...)\u001B[0m\n\u001B[0;32m    946\u001B[0m     defaults\u001B[38;5;241m=\u001B[39m{\u001B[38;5;124m\"\u001B[39m\u001B[38;5;124mdelimiter\u001B[39m\u001B[38;5;124m\"\u001B[39m: \u001B[38;5;124m\"\u001B[39m\u001B[38;5;124m,\u001B[39m\u001B[38;5;124m\"\u001B[39m},\n\u001B[0;32m    947\u001B[0m )\n\u001B[0;32m    948\u001B[0m kwds\u001B[38;5;241m.\u001B[39mupdate(kwds_defaults)\n\u001B[1;32m--> 950\u001B[0m \u001B[38;5;28;01mreturn\u001B[39;00m \u001B[43m_read\u001B[49m\u001B[43m(\u001B[49m\u001B[43mfilepath_or_buffer\u001B[49m\u001B[43m,\u001B[49m\u001B[43m \u001B[49m\u001B[43mkwds\u001B[49m\u001B[43m)\u001B[49m\n",
      "File \u001B[1;32m~\\Anaconda3\\anaconda\\envs\\DS\\lib\\site-packages\\pandas\\io\\parsers\\readers.py:605\u001B[0m, in \u001B[0;36m_read\u001B[1;34m(filepath_or_buffer, kwds)\u001B[0m\n\u001B[0;32m    602\u001B[0m _validate_names(kwds\u001B[38;5;241m.\u001B[39mget(\u001B[38;5;124m\"\u001B[39m\u001B[38;5;124mnames\u001B[39m\u001B[38;5;124m\"\u001B[39m, \u001B[38;5;28;01mNone\u001B[39;00m))\n\u001B[0;32m    604\u001B[0m \u001B[38;5;66;03m# Create the parser.\u001B[39;00m\n\u001B[1;32m--> 605\u001B[0m parser \u001B[38;5;241m=\u001B[39m \u001B[43mTextFileReader\u001B[49m\u001B[43m(\u001B[49m\u001B[43mfilepath_or_buffer\u001B[49m\u001B[43m,\u001B[49m\u001B[43m \u001B[49m\u001B[38;5;241;43m*\u001B[39;49m\u001B[38;5;241;43m*\u001B[39;49m\u001B[43mkwds\u001B[49m\u001B[43m)\u001B[49m\n\u001B[0;32m    607\u001B[0m \u001B[38;5;28;01mif\u001B[39;00m chunksize \u001B[38;5;129;01mor\u001B[39;00m iterator:\n\u001B[0;32m    608\u001B[0m     \u001B[38;5;28;01mreturn\u001B[39;00m parser\n",
      "File \u001B[1;32m~\\Anaconda3\\anaconda\\envs\\DS\\lib\\site-packages\\pandas\\io\\parsers\\readers.py:1442\u001B[0m, in \u001B[0;36mTextFileReader.__init__\u001B[1;34m(self, f, engine, **kwds)\u001B[0m\n\u001B[0;32m   1439\u001B[0m     \u001B[38;5;28mself\u001B[39m\u001B[38;5;241m.\u001B[39moptions[\u001B[38;5;124m\"\u001B[39m\u001B[38;5;124mhas_index_names\u001B[39m\u001B[38;5;124m\"\u001B[39m] \u001B[38;5;241m=\u001B[39m kwds[\u001B[38;5;124m\"\u001B[39m\u001B[38;5;124mhas_index_names\u001B[39m\u001B[38;5;124m\"\u001B[39m]\n\u001B[0;32m   1441\u001B[0m \u001B[38;5;28mself\u001B[39m\u001B[38;5;241m.\u001B[39mhandles: IOHandles \u001B[38;5;241m|\u001B[39m \u001B[38;5;28;01mNone\u001B[39;00m \u001B[38;5;241m=\u001B[39m \u001B[38;5;28;01mNone\u001B[39;00m\n\u001B[1;32m-> 1442\u001B[0m \u001B[38;5;28mself\u001B[39m\u001B[38;5;241m.\u001B[39m_engine \u001B[38;5;241m=\u001B[39m \u001B[38;5;28;43mself\u001B[39;49m\u001B[38;5;241;43m.\u001B[39;49m\u001B[43m_make_engine\u001B[49m\u001B[43m(\u001B[49m\u001B[43mf\u001B[49m\u001B[43m,\u001B[49m\u001B[43m \u001B[49m\u001B[38;5;28;43mself\u001B[39;49m\u001B[38;5;241;43m.\u001B[39;49m\u001B[43mengine\u001B[49m\u001B[43m)\u001B[49m\n",
      "File \u001B[1;32m~\\Anaconda3\\anaconda\\envs\\DS\\lib\\site-packages\\pandas\\io\\parsers\\readers.py:1735\u001B[0m, in \u001B[0;36mTextFileReader._make_engine\u001B[1;34m(self, f, engine)\u001B[0m\n\u001B[0;32m   1733\u001B[0m     \u001B[38;5;28;01mif\u001B[39;00m \u001B[38;5;124m\"\u001B[39m\u001B[38;5;124mb\u001B[39m\u001B[38;5;124m\"\u001B[39m \u001B[38;5;129;01mnot\u001B[39;00m \u001B[38;5;129;01min\u001B[39;00m mode:\n\u001B[0;32m   1734\u001B[0m         mode \u001B[38;5;241m+\u001B[39m\u001B[38;5;241m=\u001B[39m \u001B[38;5;124m\"\u001B[39m\u001B[38;5;124mb\u001B[39m\u001B[38;5;124m\"\u001B[39m\n\u001B[1;32m-> 1735\u001B[0m \u001B[38;5;28mself\u001B[39m\u001B[38;5;241m.\u001B[39mhandles \u001B[38;5;241m=\u001B[39m \u001B[43mget_handle\u001B[49m\u001B[43m(\u001B[49m\n\u001B[0;32m   1736\u001B[0m \u001B[43m    \u001B[49m\u001B[43mf\u001B[49m\u001B[43m,\u001B[49m\n\u001B[0;32m   1737\u001B[0m \u001B[43m    \u001B[49m\u001B[43mmode\u001B[49m\u001B[43m,\u001B[49m\n\u001B[0;32m   1738\u001B[0m \u001B[43m    \u001B[49m\u001B[43mencoding\u001B[49m\u001B[38;5;241;43m=\u001B[39;49m\u001B[38;5;28;43mself\u001B[39;49m\u001B[38;5;241;43m.\u001B[39;49m\u001B[43moptions\u001B[49m\u001B[38;5;241;43m.\u001B[39;49m\u001B[43mget\u001B[49m\u001B[43m(\u001B[49m\u001B[38;5;124;43m\"\u001B[39;49m\u001B[38;5;124;43mencoding\u001B[39;49m\u001B[38;5;124;43m\"\u001B[39;49m\u001B[43m,\u001B[49m\u001B[43m \u001B[49m\u001B[38;5;28;43;01mNone\u001B[39;49;00m\u001B[43m)\u001B[49m\u001B[43m,\u001B[49m\n\u001B[0;32m   1739\u001B[0m \u001B[43m    \u001B[49m\u001B[43mcompression\u001B[49m\u001B[38;5;241;43m=\u001B[39;49m\u001B[38;5;28;43mself\u001B[39;49m\u001B[38;5;241;43m.\u001B[39;49m\u001B[43moptions\u001B[49m\u001B[38;5;241;43m.\u001B[39;49m\u001B[43mget\u001B[49m\u001B[43m(\u001B[49m\u001B[38;5;124;43m\"\u001B[39;49m\u001B[38;5;124;43mcompression\u001B[39;49m\u001B[38;5;124;43m\"\u001B[39;49m\u001B[43m,\u001B[49m\u001B[43m \u001B[49m\u001B[38;5;28;43;01mNone\u001B[39;49;00m\u001B[43m)\u001B[49m\u001B[43m,\u001B[49m\n\u001B[0;32m   1740\u001B[0m \u001B[43m    \u001B[49m\u001B[43mmemory_map\u001B[49m\u001B[38;5;241;43m=\u001B[39;49m\u001B[38;5;28;43mself\u001B[39;49m\u001B[38;5;241;43m.\u001B[39;49m\u001B[43moptions\u001B[49m\u001B[38;5;241;43m.\u001B[39;49m\u001B[43mget\u001B[49m\u001B[43m(\u001B[49m\u001B[38;5;124;43m\"\u001B[39;49m\u001B[38;5;124;43mmemory_map\u001B[39;49m\u001B[38;5;124;43m\"\u001B[39;49m\u001B[43m,\u001B[49m\u001B[43m \u001B[49m\u001B[38;5;28;43;01mFalse\u001B[39;49;00m\u001B[43m)\u001B[49m\u001B[43m,\u001B[49m\n\u001B[0;32m   1741\u001B[0m \u001B[43m    \u001B[49m\u001B[43mis_text\u001B[49m\u001B[38;5;241;43m=\u001B[39;49m\u001B[43mis_text\u001B[49m\u001B[43m,\u001B[49m\n\u001B[0;32m   1742\u001B[0m \u001B[43m    \u001B[49m\u001B[43merrors\u001B[49m\u001B[38;5;241;43m=\u001B[39;49m\u001B[38;5;28;43mself\u001B[39;49m\u001B[38;5;241;43m.\u001B[39;49m\u001B[43moptions\u001B[49m\u001B[38;5;241;43m.\u001B[39;49m\u001B[43mget\u001B[49m\u001B[43m(\u001B[49m\u001B[38;5;124;43m\"\u001B[39;49m\u001B[38;5;124;43mencoding_errors\u001B[39;49m\u001B[38;5;124;43m\"\u001B[39;49m\u001B[43m,\u001B[49m\u001B[43m \u001B[49m\u001B[38;5;124;43m\"\u001B[39;49m\u001B[38;5;124;43mstrict\u001B[39;49m\u001B[38;5;124;43m\"\u001B[39;49m\u001B[43m)\u001B[49m\u001B[43m,\u001B[49m\n\u001B[0;32m   1743\u001B[0m \u001B[43m    \u001B[49m\u001B[43mstorage_options\u001B[49m\u001B[38;5;241;43m=\u001B[39;49m\u001B[38;5;28;43mself\u001B[39;49m\u001B[38;5;241;43m.\u001B[39;49m\u001B[43moptions\u001B[49m\u001B[38;5;241;43m.\u001B[39;49m\u001B[43mget\u001B[49m\u001B[43m(\u001B[49m\u001B[38;5;124;43m\"\u001B[39;49m\u001B[38;5;124;43mstorage_options\u001B[39;49m\u001B[38;5;124;43m\"\u001B[39;49m\u001B[43m,\u001B[49m\u001B[43m \u001B[49m\u001B[38;5;28;43;01mNone\u001B[39;49;00m\u001B[43m)\u001B[49m\u001B[43m,\u001B[49m\n\u001B[0;32m   1744\u001B[0m \u001B[43m\u001B[49m\u001B[43m)\u001B[49m\n\u001B[0;32m   1745\u001B[0m \u001B[38;5;28;01massert\u001B[39;00m \u001B[38;5;28mself\u001B[39m\u001B[38;5;241m.\u001B[39mhandles \u001B[38;5;129;01mis\u001B[39;00m \u001B[38;5;129;01mnot\u001B[39;00m \u001B[38;5;28;01mNone\u001B[39;00m\n\u001B[0;32m   1746\u001B[0m f \u001B[38;5;241m=\u001B[39m \u001B[38;5;28mself\u001B[39m\u001B[38;5;241m.\u001B[39mhandles\u001B[38;5;241m.\u001B[39mhandle\n",
      "File \u001B[1;32m~\\Anaconda3\\anaconda\\envs\\DS\\lib\\site-packages\\pandas\\io\\common.py:856\u001B[0m, in \u001B[0;36mget_handle\u001B[1;34m(path_or_buf, mode, encoding, compression, memory_map, is_text, errors, storage_options)\u001B[0m\n\u001B[0;32m    851\u001B[0m \u001B[38;5;28;01melif\u001B[39;00m \u001B[38;5;28misinstance\u001B[39m(handle, \u001B[38;5;28mstr\u001B[39m):\n\u001B[0;32m    852\u001B[0m     \u001B[38;5;66;03m# Check whether the filename is to be opened in binary mode.\u001B[39;00m\n\u001B[0;32m    853\u001B[0m     \u001B[38;5;66;03m# Binary mode does not support 'encoding' and 'newline'.\u001B[39;00m\n\u001B[0;32m    854\u001B[0m     \u001B[38;5;28;01mif\u001B[39;00m ioargs\u001B[38;5;241m.\u001B[39mencoding \u001B[38;5;129;01mand\u001B[39;00m \u001B[38;5;124m\"\u001B[39m\u001B[38;5;124mb\u001B[39m\u001B[38;5;124m\"\u001B[39m \u001B[38;5;129;01mnot\u001B[39;00m \u001B[38;5;129;01min\u001B[39;00m ioargs\u001B[38;5;241m.\u001B[39mmode:\n\u001B[0;32m    855\u001B[0m         \u001B[38;5;66;03m# Encoding\u001B[39;00m\n\u001B[1;32m--> 856\u001B[0m         handle \u001B[38;5;241m=\u001B[39m \u001B[38;5;28;43mopen\u001B[39;49m\u001B[43m(\u001B[49m\n\u001B[0;32m    857\u001B[0m \u001B[43m            \u001B[49m\u001B[43mhandle\u001B[49m\u001B[43m,\u001B[49m\n\u001B[0;32m    858\u001B[0m \u001B[43m            \u001B[49m\u001B[43mioargs\u001B[49m\u001B[38;5;241;43m.\u001B[39;49m\u001B[43mmode\u001B[49m\u001B[43m,\u001B[49m\n\u001B[0;32m    859\u001B[0m \u001B[43m            \u001B[49m\u001B[43mencoding\u001B[49m\u001B[38;5;241;43m=\u001B[39;49m\u001B[43mioargs\u001B[49m\u001B[38;5;241;43m.\u001B[39;49m\u001B[43mencoding\u001B[49m\u001B[43m,\u001B[49m\n\u001B[0;32m    860\u001B[0m \u001B[43m            \u001B[49m\u001B[43merrors\u001B[49m\u001B[38;5;241;43m=\u001B[39;49m\u001B[43merrors\u001B[49m\u001B[43m,\u001B[49m\n\u001B[0;32m    861\u001B[0m \u001B[43m            \u001B[49m\u001B[43mnewline\u001B[49m\u001B[38;5;241;43m=\u001B[39;49m\u001B[38;5;124;43m\"\u001B[39;49m\u001B[38;5;124;43m\"\u001B[39;49m\u001B[43m,\u001B[49m\n\u001B[0;32m    862\u001B[0m \u001B[43m        \u001B[49m\u001B[43m)\u001B[49m\n\u001B[0;32m    863\u001B[0m     \u001B[38;5;28;01melse\u001B[39;00m:\n\u001B[0;32m    864\u001B[0m         \u001B[38;5;66;03m# Binary mode\u001B[39;00m\n\u001B[0;32m    865\u001B[0m         handle \u001B[38;5;241m=\u001B[39m \u001B[38;5;28mopen\u001B[39m(handle, ioargs\u001B[38;5;241m.\u001B[39mmode)\n",
      "File \u001B[1;32m~\\Anaconda3\\anaconda\\envs\\DS\\lib\\codecs.py:309\u001B[0m, in \u001B[0;36mBufferedIncrementalDecoder.__init__\u001B[1;34m(self, errors)\u001B[0m\n\u001B[0;32m    303\u001B[0m \u001B[38;5;28;01mclass\u001B[39;00m \u001B[38;5;21;01mBufferedIncrementalDecoder\u001B[39;00m(IncrementalDecoder):\n\u001B[0;32m    304\u001B[0m     \u001B[38;5;124;03m\"\"\"\u001B[39;00m\n\u001B[0;32m    305\u001B[0m \u001B[38;5;124;03m    This subclass of IncrementalDecoder can be used as the baseclass for an\u001B[39;00m\n\u001B[0;32m    306\u001B[0m \u001B[38;5;124;03m    incremental decoder if the decoder must be able to handle incomplete\u001B[39;00m\n\u001B[0;32m    307\u001B[0m \u001B[38;5;124;03m    byte sequences.\u001B[39;00m\n\u001B[0;32m    308\u001B[0m \u001B[38;5;124;03m    \"\"\"\u001B[39;00m\n\u001B[1;32m--> 309\u001B[0m     \u001B[38;5;28;01mdef\u001B[39;00m \u001B[38;5;21m__init__\u001B[39m(\u001B[38;5;28mself\u001B[39m, errors\u001B[38;5;241m=\u001B[39m\u001B[38;5;124m'\u001B[39m\u001B[38;5;124mstrict\u001B[39m\u001B[38;5;124m'\u001B[39m):\n\u001B[0;32m    310\u001B[0m         IncrementalDecoder\u001B[38;5;241m.\u001B[39m\u001B[38;5;21m__init__\u001B[39m(\u001B[38;5;28mself\u001B[39m, errors)\n\u001B[0;32m    311\u001B[0m         \u001B[38;5;66;03m# undecoded input that is kept between calls to decode()\u001B[39;00m\n",
      "\u001B[1;31mKeyboardInterrupt\u001B[0m: "
     ]
    }
   ],
   "source": [
    "\n"
   ],
   "metadata": {
    "collapsed": false
   }
  },
  {
   "cell_type": "code",
   "execution_count": 30,
   "outputs": [],
   "source": [
    "train_path = r'imgs_2023050915314323740/train_test_dataset_Fault Impact Analysis'\n",
    "train_files = glob.glob(os.path.join(train_path, \"*.csv\"))\n",
    "\n",
    "def one_hot_encoder(hour):\n",
    "    if 0 <= hour < 24:\n",
    "        one_hot_vector = [0] * 24\n",
    "        one_hot_vector[hour] = 1\n",
    "        return one_hot_vector\n",
    "    else:\n",
    "        raise ValueError(\"Hour must be in the range 0 to 23.\")"
   ],
   "metadata": {
    "collapsed": false
   }
  },
  {
   "cell_type": "code",
   "execution_count": 5,
   "outputs": [],
   "source": [
    "mean = np.array([0,0,0,0,0,0,0,0,0])\n",
    "std = np.array([0,0,0,0,0,0,0,0,0])\n",
    "count = 0\n",
    "\n",
    "for file in train_files:\n",
    "    df = pd.read_csv(file)\n",
    "    df = df.fillna(0)\n",
    "    columns = df.columns\n",
    "    mean_1 = df[columns[2:]].mean()\n",
    "    mean = mean + mean_1\n",
    "\n",
    "    std_1 = df[columns[2:]].std()\n",
    "    std = std + std_1\n",
    "    count += 1\n",
    "\n",
    "mean = mean/count\n",
    "std = std/count"
   ],
   "metadata": {
    "collapsed": false
   }
  },
  {
   "cell_type": "code",
   "execution_count": 36,
   "outputs": [
    {
     "data": {
      "text/plain": "     access_success_rate  resource_utilition_rate        TA      bler  \\\n0               0.000000                 0.000000  0.000000  0.000000   \n1              -0.042375                -1.293460  0.330149 -0.460054   \n2               0.103933                 1.100632 -0.094861  0.458637   \n3               0.005469                -0.772939 -0.063025 -0.188717   \n4              -0.006516                -0.111527 -0.129429  0.238300   \n..                   ...                      ...       ...       ...   \n272             0.021003                 0.492209 -0.027626  1.012789   \n273             0.000000                 2.782427  0.021123  0.330748   \n274             0.000000                 0.029269  0.228027  0.005583   \n275             0.000000                -1.533922 -0.208165  0.035091   \n276             0.000000                -0.103492  0.185320  0.184494   \n\n          cqi       mcs  data_rate  \n0    0.000000  0.000000   0.000000  \n1    0.105545 -0.945294   0.584169  \n2    0.515699  1.745488  -1.392725  \n3    0.176865  0.379875   1.893932  \n4   -0.188622  0.117643  -0.239398  \n..        ...       ...        ...  \n272 -0.061761  1.716646  -0.151530  \n273 -0.182530 -0.591072  -1.517395  \n274 -0.034120 -0.007968  -0.288785  \n275 -0.313970 -0.630791   0.150728  \n276 -0.175014  0.064710   0.071331  \n\n[277 rows x 7 columns]",
      "text/html": "<div>\n<style scoped>\n    .dataframe tbody tr th:only-of-type {\n        vertical-align: middle;\n    }\n\n    .dataframe tbody tr th {\n        vertical-align: top;\n    }\n\n    .dataframe thead th {\n        text-align: right;\n    }\n</style>\n<table border=\"1\" class=\"dataframe\">\n  <thead>\n    <tr style=\"text-align: right;\">\n      <th></th>\n      <th>access_success_rate</th>\n      <th>resource_utilition_rate</th>\n      <th>TA</th>\n      <th>bler</th>\n      <th>cqi</th>\n      <th>mcs</th>\n      <th>data_rate</th>\n    </tr>\n  </thead>\n  <tbody>\n    <tr>\n      <th>0</th>\n      <td>0.000000</td>\n      <td>0.000000</td>\n      <td>0.000000</td>\n      <td>0.000000</td>\n      <td>0.000000</td>\n      <td>0.000000</td>\n      <td>0.000000</td>\n    </tr>\n    <tr>\n      <th>1</th>\n      <td>-0.042375</td>\n      <td>-1.293460</td>\n      <td>0.330149</td>\n      <td>-0.460054</td>\n      <td>0.105545</td>\n      <td>-0.945294</td>\n      <td>0.584169</td>\n    </tr>\n    <tr>\n      <th>2</th>\n      <td>0.103933</td>\n      <td>1.100632</td>\n      <td>-0.094861</td>\n      <td>0.458637</td>\n      <td>0.515699</td>\n      <td>1.745488</td>\n      <td>-1.392725</td>\n    </tr>\n    <tr>\n      <th>3</th>\n      <td>0.005469</td>\n      <td>-0.772939</td>\n      <td>-0.063025</td>\n      <td>-0.188717</td>\n      <td>0.176865</td>\n      <td>0.379875</td>\n      <td>1.893932</td>\n    </tr>\n    <tr>\n      <th>4</th>\n      <td>-0.006516</td>\n      <td>-0.111527</td>\n      <td>-0.129429</td>\n      <td>0.238300</td>\n      <td>-0.188622</td>\n      <td>0.117643</td>\n      <td>-0.239398</td>\n    </tr>\n    <tr>\n      <th>...</th>\n      <td>...</td>\n      <td>...</td>\n      <td>...</td>\n      <td>...</td>\n      <td>...</td>\n      <td>...</td>\n      <td>...</td>\n    </tr>\n    <tr>\n      <th>272</th>\n      <td>0.021003</td>\n      <td>0.492209</td>\n      <td>-0.027626</td>\n      <td>1.012789</td>\n      <td>-0.061761</td>\n      <td>1.716646</td>\n      <td>-0.151530</td>\n    </tr>\n    <tr>\n      <th>273</th>\n      <td>0.000000</td>\n      <td>2.782427</td>\n      <td>0.021123</td>\n      <td>0.330748</td>\n      <td>-0.182530</td>\n      <td>-0.591072</td>\n      <td>-1.517395</td>\n    </tr>\n    <tr>\n      <th>274</th>\n      <td>0.000000</td>\n      <td>0.029269</td>\n      <td>0.228027</td>\n      <td>0.005583</td>\n      <td>-0.034120</td>\n      <td>-0.007968</td>\n      <td>-0.288785</td>\n    </tr>\n    <tr>\n      <th>275</th>\n      <td>0.000000</td>\n      <td>-1.533922</td>\n      <td>-0.208165</td>\n      <td>0.035091</td>\n      <td>-0.313970</td>\n      <td>-0.630791</td>\n      <td>0.150728</td>\n    </tr>\n    <tr>\n      <th>276</th>\n      <td>0.000000</td>\n      <td>-0.103492</td>\n      <td>0.185320</td>\n      <td>0.184494</td>\n      <td>-0.175014</td>\n      <td>0.064710</td>\n      <td>0.071331</td>\n    </tr>\n  </tbody>\n</table>\n<p>277 rows × 7 columns</p>\n</div>"
     },
     "execution_count": 36,
     "metadata": {},
     "output_type": "execute_result"
    }
   ],
   "source": [
    "test_file = pd.read_csv(train_files[0])\n",
    "cols = test_file.columns\n",
    "diff = test_file[cols[2:-2]].diff().values\n",
    "\n",
    "x_pred = (test_file[cols[2:-2]] - mean[:-2]) / std[:-2]\n",
    "x_diff = x_pred.diff()\n",
    "x_diff.iloc[0] = [0]*7\n",
    "\n",
    "x_diff"
   ],
   "metadata": {
    "collapsed": false
   }
  },
  {
   "cell_type": "code",
   "execution_count": 38,
   "outputs": [
    {
     "name": "stdout",
     "output_type": "stream",
     "text": [
      "X:::: [[1.46911760e+32 6.16571324e-43 1.46911760e+32 6.16571324e-43\n",
      "  1.46911760e+32 6.16571324e-43 1.46911760e+32 6.16571324e-43\n",
      "  1.46911760e+32 6.16571324e-43 1.46911760e+32 6.16571324e-43\n",
      "  1.46911760e+32 6.16571324e-43 1.46911760e+32 6.16571324e-43\n",
      "  1.46911760e+32 6.16571324e-43 1.46911760e+32 6.16571324e-43\n",
      "  6.48227959e+31 6.16571324e-43 1.48973395e+32 6.16571324e-43\n",
      "  1.48977263e+32 6.16571324e-43 1.48981906e+32 6.16571324e-43\n",
      "  1.48984227e+32 6.16571324e-43 1.50209942e+32 6.16571324e-43\n",
      "  1.50210716e+32 6.16571324e-43 1.50211490e+32 6.16571324e-43\n",
      "  1.50212263e+32 6.16571324e-43 1.50213037e+32 6.16571324e-43]]\n",
      "(901666, 40) (901666,)\n"
     ]
    }
   ],
   "source": [
    "\n",
    "#create data sets:\n",
    "X = np.empty((1, 40), dtype='float32')\n",
    "Y = np.array([])\n",
    "print(\"X::::\", X)\n",
    "for file in train_files:\n",
    "\n",
    "    df = pd.read_csv(file)\n",
    "    columns = df.columns\n",
    "    df[columns[2:]] = df[columns[2:]].fillna(mean)  # Fill NaN values with the mean.\n",
    "\n",
    "    # Convert endTime column to datetime.\n",
    "    df['endTime'] = pd.to_datetime(df['endTime'])\n",
    "\n",
    "    # Calculate fault_duration using vectorized operations.\n",
    "    fault_duration = (df['fault_duration'] - mean[-2]) / std[-2]\n",
    "    fault_duration = np.array(fault_duration)\n",
    "    # Calculate x_pred using vectorized operations.\n",
    "    x_pred = (df[columns[2:-2]] - mean[:-2]) / std[:-2]\n",
    "    #calculate diff between t-1 and t-2\n",
    "    x_diff = x_pred.diff()\n",
    "    x_diff.iloc[0] = [0]*7\n",
    "\n",
    "    x_diff = np.array(x_diff)\n",
    "    x_pred = np.array(x_pred)\n",
    "    # One-hot encode the hour using vectorized operations.\n",
    "    hour_enc = np.array([one_hot_encoder(hour) for hour in df['endTime'].dt.hour])\n",
    "\n",
    "    relation = np.array(df['relation'].values)\n",
    "    # Calculate diff_data_rate using vectorized operations.\n",
    "    diff_data_rate = df['data_rate'].diff().values\n",
    "\n",
    "    # Generate Y array using vectorized operations.\n",
    "    Y = np.append(Y, (diff_data_rate < 0).astype(int)[1:])\n",
    "\n",
    "    # Concatenate all the features using vectorized operations.\n",
    "    features = np.concatenate((x_pred[:-1], x_diff[:-1],\n",
    "                               fault_duration[1:, None],\n",
    "                               relation[1:, None],\n",
    "                               hour_enc[:-1]),\n",
    "                              axis=1)\n",
    "\n",
    "\n",
    "    X = np.append(X, features, axis=0)\n",
    "\n",
    "\n",
    "\n",
    "\n",
    "X = np.array(X[1:])\n",
    "print(X.shape, Y.shape)"
   ],
   "metadata": {
    "collapsed": false
   }
  },
  {
   "cell_type": "code",
   "execution_count": 39,
   "outputs": [],
   "source": [
    "np.save(r'Features.npy', X)\n",
    "np.save(r'Target.npy', Y)"
   ],
   "metadata": {
    "collapsed": false
   }
  },
  {
   "cell_type": "code",
   "execution_count": 40,
   "outputs": [
    {
     "name": "stdout",
     "output_type": "stream",
     "text": [
      "(7256, 40) (7256,)\n"
     ]
    }
   ],
   "source": [
    "#create fine tuning data points\n",
    "X_fine = []\n",
    "Y_fine = np.array([])\n",
    "\n",
    "for file in train_files:\n",
    "\n",
    "    df = pd.read_csv(file)\n",
    "    columns = df.columns\n",
    "    df[columns[2:]] = df[columns[2:]].fillna(mean)\n",
    "    df['endTime'] = pd.to_datetime(df['endTime'])\n",
    "\n",
    "    for index in range(1,len(df)):\n",
    "\n",
    "        if df['fault_duration'].iloc[index] != 0:\n",
    "\n",
    "            fault_duration = (df['fault_duration'].iloc[index] - mean[-2]) / std[-2]\n",
    "            relation = df['relation'].iloc[index]\n",
    "\n",
    "            x_pred = (df[columns[2:-2]].iloc[index-1] - mean[:-2]) / std[:-2]\n",
    "\n",
    "            hour = int(df['endTime'].iloc[index-1].hour)\n",
    "            hour_enc = one_hot_encoder(hour)\n",
    "\n",
    "\n",
    "            diff_data_rate = df['data_rate'].iloc[index] - df['data_rate'].iloc[index-1]\n",
    "\n",
    "            if diff_data_rate < 0:\n",
    "                Y_fine = np.append(Y_fine, 1)\n",
    "\n",
    "            else:\n",
    "                Y_fine = np.append(Y_fine, 0)\n",
    "\n",
    "\n",
    "            if index > 1:\n",
    "                x_t2 = (df[columns[2:-2]].iloc[index-2] - mean[:-2]) / std[:-2]\n",
    "\n",
    "                x_diff = x_pred - x_t2\n",
    "            else:\n",
    "                x_diff = np.array([0]*7)\n",
    "\n",
    "\n",
    "\n",
    "            features = np.concatenate((x_pred, x_diff, [fault_duration], [relation], hour_enc),\n",
    "                                      axis =0)\n",
    "\n",
    "            X_fine.append(features)\n",
    "\n",
    "            break\n",
    "\n",
    "X_fine = np.array(X_fine)\n",
    "\n",
    "print(X_fine.shape, Y_fine.shape)"
   ],
   "metadata": {
    "collapsed": false
   }
  },
  {
   "cell_type": "code",
   "execution_count": 41,
   "outputs": [
    {
     "data": {
      "text/plain": "0"
     },
     "execution_count": 41,
     "metadata": {},
     "output_type": "execute_result"
    }
   ],
   "source": [
    "nan_mask = np.isnan(X_fine)\n",
    "nan_count = np.sum(nan_mask)\n",
    "nan_count"
   ],
   "metadata": {
    "collapsed": false
   }
  },
  {
   "cell_type": "code",
   "execution_count": 42,
   "outputs": [],
   "source": [
    "np.save(r'Features_fine.npy', X_fine)\n",
    "np.save(r'Target_fine.npy', Y_fine)"
   ],
   "metadata": {
    "collapsed": false
   }
  },
  {
   "cell_type": "code",
   "execution_count": 43,
   "outputs": [
    {
     "name": "stdout",
     "output_type": "stream",
     "text": [
      "(1932, 40)\n"
     ]
    }
   ],
   "source": [
    "val_folder_path = r'validation_clean/'\n",
    "sample_submission = pd.read_csv('SampleSubmission.csv')\n",
    "indexes = sample_submission['ID'].values\n",
    "\n",
    "X_val = []\n",
    "\n",
    "for id in indexes:\n",
    "\n",
    "    df = pd.read_csv(val_folder_path + id +'.csv.csv')\n",
    "\n",
    "    columns = df.columns\n",
    "    df[columns[2:]] = df[columns[2:]].fillna(mean)\n",
    "    df['endTime'] = pd.to_datetime(df['endTime'])\n",
    "\n",
    "    for index in range(1,len(df)):\n",
    "\n",
    "        if df['fault_duration'].iloc[index] != 0:\n",
    "\n",
    "            fault_duration = (df['fault_duration'].iloc[index] - mean[-2]) / std[-2]\n",
    "            relation = df['relation'].iloc[index]\n",
    "\n",
    "            x_pred = (df[columns[3:-2]].iloc[index-1] - mean[:-2]) / std[:-2]\n",
    "\n",
    "\n",
    "            hour = int(df['endTime'].iloc[index-1].hour)\n",
    "            hour_enc = one_hot_encoder(hour)\n",
    "\n",
    "            if index > 1:\n",
    "\n",
    "                x_t2 = (df[columns[3:-2]].iloc[index-2] - mean[:-2]) / std[:-2]\n",
    "                x_diff = x_pred - x_t2\n",
    "            else:\n",
    "                x_diff = np.array([0]*7)\n",
    "\n",
    "\n",
    "\n",
    "            features = np.concatenate((x_pred, x_diff, [fault_duration], [relation], hour_enc),\n",
    "                                      axis =0)\n",
    "\n",
    "            X_val.append(features)\n",
    "\n",
    "            break\n",
    "\n",
    "\n",
    "X_val = np.array(X_val)\n",
    "print(X_val.shape)"
   ],
   "metadata": {
    "collapsed": false
   }
  },
  {
   "cell_type": "code",
   "execution_count": 45,
   "outputs": [
    {
     "data": {
      "text/plain": "0"
     },
     "execution_count": 45,
     "metadata": {},
     "output_type": "execute_result"
    }
   ],
   "source": [
    "nan_mask = np.isnan(X_val)\n",
    "nan_count = np.sum(nan_mask)\n",
    "nan_count"
   ],
   "metadata": {
    "collapsed": false
   }
  },
  {
   "cell_type": "code",
   "execution_count": 46,
   "outputs": [],
   "source": [
    "np.save(r'Features_val.npy', X_val)"
   ],
   "metadata": {
    "collapsed": false
   }
  },
  {
   "cell_type": "markdown",
   "source": [],
   "metadata": {
    "collapsed": false
   }
  },
  {
   "cell_type": "code",
   "execution_count": null,
   "outputs": [],
   "source": [],
   "metadata": {
    "collapsed": false
   }
  }
 ],
 "metadata": {
  "kernelspec": {
   "display_name": "Python 3",
   "language": "python",
   "name": "python3"
  },
  "language_info": {
   "codemirror_mode": {
    "name": "ipython",
    "version": 2
   },
   "file_extension": ".py",
   "mimetype": "text/x-python",
   "name": "python",
   "nbconvert_exporter": "python",
   "pygments_lexer": "ipython2",
   "version": "2.7.6"
  }
 },
 "nbformat": 4,
 "nbformat_minor": 0
}
